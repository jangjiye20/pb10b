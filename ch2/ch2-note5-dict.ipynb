{
 "metadata": {
  "language_info": {
   "codemirror_mode": {
    "name": "ipython",
    "version": 3
   },
   "file_extension": ".py",
   "mimetype": "text/x-python",
   "name": "python",
   "nbconvert_exporter": "python",
   "pygments_lexer": "ipython3",
   "version": "3.9.2-final"
  },
  "orig_nbformat": 2,
  "kernelspec": {
   "name": "python3",
   "display_name": "Python 3.9.2 64-bit",
   "metadata": {
    "interpreter": {
     "hash": "bd33f15fd76a8fe5f683cf27e0617aed8d0a8cd87d06116fcdceb527cfca2c75"
    }
   }
  }
 },
 "nbformat": 4,
 "nbformat_minor": 2,
 "cells": [
  {
   "source": [
    "### 딕셔너리: 딕셔너리(Dictionary)란?\n",
    "- 딕셔너리란 대응 관계를 나타내는 자료형.\n",
    "- 연관 배열(Associative array) 또는 해시(Hash)\n",
    "- 딕셔너리는 Key와 Value를 한 쌍으로 갖는 자료형\n",
    "#\n",
    "기본 딕셔너리의 모습\n",
    "- {Key1:Value1, Key2:Value2, Key3:Value3, ...}\n",
    "- Key와 Value의 쌍 여러 개가 { }로 둘러싸여 있다.\n",
    "- 각각의 요소는 Key : Value 형태로 이루어져 있고 쉼표(,)로 구분"
   ],
   "cell_type": "markdown",
   "metadata": {}
  },
  {
   "cell_type": "code",
   "execution_count": 8,
   "metadata": {},
   "outputs": [
    {
     "output_type": "stream",
     "name": "stdout",
     "text": [
      "{1: 'hi'}\nhi\n"
     ]
    }
   ],
   "source": [
    "a = {1: \"hi\"}\n",
    "print(a)\n",
    "print(a[1])  "
   ]
  },
  {
   "cell_type": "code",
   "execution_count": 9,
   "metadata": {},
   "outputs": [
    {
     "output_type": "stream",
     "name": "stdout",
     "text": [
      "1\n"
     ]
    }
   ],
   "source": [
    "a = {\"a\": [1, 2, 3]}  # value에는 복합 자료형도 사용된다.\n",
    "print(len(a)) "
   ]
  },
  {
   "cell_type": "code",
   "execution_count": 11,
   "metadata": {},
   "outputs": [
    {
     "output_type": "stream",
     "name": "stdout",
     "text": [
      "[1, 2, 3]\n"
     ]
    }
   ],
   "source": [
    "print(a[\"a\"])"
   ]
  },
  {
   "cell_type": "code",
   "execution_count": 12,
   "metadata": {},
   "outputs": [
    {
     "output_type": "stream",
     "name": "stdout",
     "text": [
      "{1: 'a', 2: 'b'}\n{1: 'a', 2: 'b', 'name': 'pey'}\n{1: 'a', 2: 'b', 'name': 'pey', 3: [1, 2, 3]}\n{2: 'b', 'name': 'pey', 3: [1, 2, 3]}\n"
     ]
    }
   ],
   "source": [
    "# 딕셔너리 쌍 추가하기\n",
    "#\n",
    "a = {1: \"a\"}\n",
    "a[2] = \"b\"\n",
    "print(a)\n",
    "a[\"name\"] = \"pey\"\n",
    "print(a)\n",
    "a[3] = [1, 2, 3]\n",
    "print(a)\n",
    "#\n",
    "# 딕셔너리 쌍 삭제하기\n",
    "#\n",
    "del a[1]\n",
    "print(a)"
   ]
  },
  {
   "source": [
    "### 딕셔너리: 사용 방법"
   ],
   "cell_type": "markdown",
   "metadata": {}
  },
  {
   "cell_type": "code",
   "execution_count": 13,
   "metadata": {},
   "outputs": [
    {
     "output_type": "stream",
     "name": "stdout",
     "text": [
      "{'김연아': '피겨스케이팅', '류현진': '야구', '손흥민': '축구', '귀도': '파이썬'}\n축구\n10\n99\na\n2\n"
     ]
    }
   ],
   "source": [
    "d = {\"김연아\": \"피겨스케이팅\", \"류현진\": \"야구\", \"손흥민\": \"축구\", \"귀도\": \"파이썬\"}\n",
    "print(d)\n",
    "print(d[\"손흥민\"])\n",
    "# 딕셔너리에서 Key 사용해 Value 얻기\n",
    "#\n",
    "grade = {\"pey\": 10, \"julliet\": 99}\n",
    "print(grade[\"pey\"]) \n",
    "print(grade[\"julliet\"])\n",
    "#\n",
    "a = {1: \"a\", 2: \"b\"}\n",
    "print(a[1]) # 1은 key\n",
    "#\n",
    "a = {\"a\": 1, \"b\": 2}\n",
    "print(a[\"b\"])"
   ]
  },
  {
   "cell_type": "code",
   "execution_count": 14,
   "metadata": {},
   "outputs": [
    {
     "output_type": "stream",
     "name": "stdout",
     "text": [
      "1118\n0109993323\n"
     ]
    }
   ],
   "source": [
    "dic = {\"name\": \"pey\", \"phone\": \"0109993323\", \"birth\": \"1118\"}\n",
    "print(dic[\"birth\"])\n",
    "print(dic[\"phone\"]) "
   ]
  },
  {
   "cell_type": "code",
   "execution_count": 6,
   "metadata": {},
   "outputs": [
    {
     "output_type": "stream",
     "name": "stdout",
     "text": [
      "1118\n0109993323\n{1: 'b'}\nb\n"
     ]
    }
   ],
   "source": [
    "dic = {\"name\": \"pey\", \"phone\": \"0109993323\", \"birth\": \"1118\"}\n",
    "print(dic[\"birth\"])\n",
    "print(dic[\"phone\"])\n",
    "\n",
    "# 딕셔너리 만들 때 주의할 사항\n",
    "# 딕셔너리에서 Key는 고유한 값이므로 중복되는 Key 값을 설정해 놓으면 하나를 제외한 나머지 것들이 모두 무시된다.\n",
    "#\n",
    "a = {1: \"a\", 1: \"b\"}\n",
    "print(a)\n",
    "print(a[1])"
   ]
  },
  {
   "source": [
    "### 딕셔너리: 관련 내장 함수들"
   ],
   "cell_type": "markdown",
   "metadata": {}
  },
  {
   "cell_type": "code",
   "execution_count": 7,
   "metadata": {},
   "outputs": [
    {
     "output_type": "stream",
     "name": "stdout",
     "text": [
      "name\nphone\nbirth\ndict_values(['pey', '0119993323', '1118'])\n['pey', '0119993323', '1118']\ndict_items([('name', 'pey'), ('phone', '0119993323'), ('birth', '1118')])\n[('name', 'pey'), ('phone', '0119993323'), ('birth', '1118')]\n{}\npey\n0119993323\nNone\nbar\npey\nTrue\nFalse\n"
     ]
    }
   ],
   "source": [
    "# Key 리스트 만들기(keys)\n",
    "#\n",
    "a = {\"name\": \"pey\", \"phone\": \"0119993323\", \"birth\": \"1118\"}\n",
    "a.keys()\n",
    "list(a.keys())\n",
    "#################################################\n",
    "# 기본적인 반복(iterate) 구문(예: for문)을 실행\n",
    "#################################################\n",
    "for k in a.keys():\n",
    "    print(k)\n",
    "#\n",
    "# Value 리스트 만들기(values)\n",
    "#\n",
    "print(a.values())\n",
    "print(list(a.values()))\n",
    "#\n",
    "# Key, Value 쌍 얻기(items)\n",
    "#\n",
    "print(a.items())     # Key와 Value의 쌍을 튜플로 묶은 값을 dict_items 객체로 돌려준다.\n",
    "print(list(a.items()))\n",
    "#\n",
    "#\n",
    "# Key: Value 쌍 모두 지우기(clear)\n",
    "#\n",
    "a.clear()\n",
    "print(a)\n",
    "#\n",
    "# Key로 Value얻기(get)\n",
    "#\n",
    "a = {\"name\": \"pey\", \"phone\": \"0119993323\", \"birth\": \"1118\"}\n",
    "print(a.get(\"name\"))  # a['name']\n",
    "print(a.get(\"phone\"))  # a['phone']\n",
    "print(a.get(\"nokey\")) # KeyError\n",
    "#\n",
    "# get(x, '디폴트 값')\n",
    "#\n",
    "# 딕셔너리 안에 찾으려는 Key 값이 없을 경우\n",
    "# 미리 정해 둔 디폴트 값을 대신 가져오게 설정.\n",
    "#\n",
    "print(a.get(\"foo\", \"bar\")) \n",
    "print(a.get(\"name\", \"bar\"))\n",
    "#\n",
    "# 해당 Key가 딕셔너리 안에 있는지 조사하기(in)\n",
    "#\n",
    "a = {\"name\": \"pey\", \"phone\": \"0119993323\", \"birth\": \"1118\"}\n",
    "print(\"name\" in a)\n",
    "print(\"foo\" in a)\n",
    "\n"
   ]
  }
 ]
}