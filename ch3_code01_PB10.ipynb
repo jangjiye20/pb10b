{
  "nbformat": 4,
  "nbformat_minor": 0,
  "metadata": {
    "colab": {
      "name": "ch3_code01_PB10.ipynb",
      "provenance": [],
      "collapsed_sections": [],
      "authorship_tag": "ABX9TyN5TZxdGOnismhiIJcRUAFN"
    },
    "kernelspec": {
      "name": "python3",
      "display_name": "Python 3"
    },
    "language_info": {
      "name": "python"
    }
  },
  "cells": [
    {
      "cell_type": "markdown",
      "metadata": {
        "id": "wkmn4L29V0DB"
      },
      "source": [
        "# **파이썬 활용**\n",
        "\n",
        "**구글 코랩 클라우드 환경에서 파이썬 실행**\n",
        "\n",
        "- ch3\n",
        "- pb10\n"
      ]
    },
    {
      "cell_type": "markdown",
      "metadata": {
        "id": "KkI7KEvPWw95"
      },
      "source": [
        "**if문은 어떻게 사용?**"
      ]
    },
    {
      "cell_type": "code",
      "metadata": {
        "colab": {
          "base_uri": "https://localhost:8080/"
        },
        "id": "tUByaY9hXCiP",
        "outputId": "05f877ab-2c69-4050-f89c-1c7b5d3a981b"
      },
      "source": [
        "# ch3_01_if_else.py\n",
        "#\n",
        "print(\"if문은 어떻게 사용?\")\n",
        "money = True                          # bool type \n",
        "if money:\n",
        "    print(\"택시를 타고 가라\")\n",
        "else:\n",
        "    print(\"걸어 가라\")"
      ],
      "execution_count": null,
      "outputs": [
        {
          "output_type": "stream",
          "text": [
            "if문은 어떻게 사용?\n",
            "택시를 타고 가라\n"
          ],
          "name": "stdout"
        }
      ]
    },
    {
      "cell_type": "markdown",
      "metadata": {
        "id": "0kQNbBj3ZZ8-"
      },
      "source": [
        "**if문의 기본 구조**"
      ]
    },
    {
      "cell_type": "code",
      "metadata": {
        "colab": {
          "base_uri": "https://localhost:8080/",
          "height": 134
        },
        "id": "9WWjr4mqZtnr",
        "outputId": "90020118-d28a-424d-b392-f494ca3b8a97"
      },
      "source": [
        "# 들여쓰기를 안하면 IndentationError: unexpected indent 오류가 납니다.\n",
        "\n",
        "############################\n",
        "print(\"들여 쓰기\")\n",
        "# 예-1\n",
        "money = True\n",
        "if money:\n",
        "    print(\"택시를\")                  \n",
        "print(\"타고\")                     # IndentationError: unexpected indent\n",
        "    print(\"가라\")"
      ],
      "execution_count": null,
      "outputs": [
        {
          "output_type": "error",
          "ename": "IndentationError",
          "evalue": "ignored",
          "traceback": [
            "\u001b[0;36m  File \u001b[0;32m\"<ipython-input-2-1bd969f842dc>\"\u001b[0;36m, line \u001b[0;32m10\u001b[0m\n\u001b[0;31m    print(\"가라\")\u001b[0m\n\u001b[0m    ^\u001b[0m\n\u001b[0;31mIndentationError\u001b[0m\u001b[0;31m:\u001b[0m unexpected indent\n"
          ]
        }
      ]
    },
    {
      "cell_type": "code",
      "metadata": {
        "colab": {
          "base_uri": "https://localhost:8080/"
        },
        "id": "eOhko1MRZu0m",
        "outputId": "8d1bff2c-cdea-4c32-edcb-15ce264aace6"
      },
      "source": [
        "# 들여쓰기가 올바르게 되면 실행이 됩니다.  \n",
        "\n",
        "############################\n",
        "print(\"들여 쓰기\")\n",
        "# 예-1\n",
        "money = True\n",
        "if money:\n",
        "    print(\"택시를\")                  \n",
        "    print(\"타고\")                     # IndentationError: unexpected indent 오류가 났던 부분\n",
        "    print(\"가라\")"
      ],
      "execution_count": null,
      "outputs": [
        {
          "output_type": "stream",
          "text": [
            "들여 쓰기\n",
            "택시를\n",
            "타고\n",
            "가라\n"
          ],
          "name": "stdout"
        }
      ]
    },
    {
      "cell_type": "code",
      "metadata": {
        "colab": {
          "base_uri": "https://localhost:8080/",
          "height": 134
        },
        "id": "tCOQWPZJaGa_",
        "outputId": "459c8fb2-1bb3-4266-cec8-66b9c203be78"
      },
      "source": [
        "# 같은 조건일 때 들여쓰기를 두 번하면 실행이 안됩니다.\n",
        "\n",
        "# 예-2\n",
        "money = True\n",
        "if money:\n",
        "    print(\"택시를\")\n",
        "    print(\"타고\")\n",
        "        print(\"가라\")"
      ],
      "execution_count": null,
      "outputs": [
        {
          "output_type": "error",
          "ename": "IndentationError",
          "evalue": "ignored",
          "traceback": [
            "\u001b[0;36m  File \u001b[0;32m\"<ipython-input-4-846b762719c1>\"\u001b[0;36m, line \u001b[0;32m8\u001b[0m\n\u001b[0;31m    print(\"가라\")\u001b[0m\n\u001b[0m    ^\u001b[0m\n\u001b[0;31mIndentationError\u001b[0m\u001b[0;31m:\u001b[0m unexpected indent\n"
          ]
        }
      ]
    },
    {
      "cell_type": "code",
      "metadata": {
        "colab": {
          "base_uri": "https://localhost:8080/"
        },
        "id": "aLJAj-w5aHZt",
        "outputId": "e0eb2389-6854-447a-848a-676c7162ad36"
      },
      "source": [
        "# 같은 조건일 때는 들여쓰기를 한 번만 해야 실행이 됩니다.\n",
        "# 예-2\n",
        "money = True\n",
        "if money:\n",
        "    print(\"택시를\")\n",
        "    print(\"타고\")\n",
        "    print(\"가라\")"
      ],
      "execution_count": null,
      "outputs": [
        {
          "output_type": "stream",
          "text": [
            "택시를\n",
            "타고\n",
            "가라\n"
          ],
          "name": "stdout"
        }
      ]
    },
    {
      "cell_type": "markdown",
      "metadata": {
        "id": "TXC7z1zTaack"
      },
      "source": [
        "**조건식: 비교연산자**"
      ]
    },
    {
      "cell_type": "code",
      "metadata": {
        "colab": {
          "base_uri": "https://localhost:8080/"
        },
        "id": "blN_6Eu-an_V",
        "outputId": "14750d45-b7b3-4eda-c358-1312f31753c8"
      },
      "source": [
        "print(\"조건식: 비교연산자\")\n",
        "# 비교연산자(<, >, ==, !=, >=, <=)를 쓰는 방법\n",
        "x=3\n",
        "y=2\n",
        "print(x>y)          # x는 y보다 크다.( > )\n",
        "print(x<y)          # x는 y보다 작다.( < )\n",
        "print(x==y)         # x와 y는 같다.( == )\n",
        "print(x!=y)         # x와 y는 다르다.( != )\n"
      ],
      "execution_count": null,
      "outputs": [
        {
          "output_type": "stream",
          "text": [
            "조건식: 비교연산자\n",
            "True\n",
            "False\n",
            "False\n",
            "True\n"
          ],
          "name": "stdout"
        }
      ]
    },
    {
      "cell_type": "code",
      "metadata": {
        "colab": {
          "base_uri": "https://localhost:8080/"
        },
        "id": "Jh5CDjlyavYc",
        "outputId": "f7161c99-8619-4e93-868b-2a6f9496486c"
      },
      "source": [
        "# \"만약 3000원 이상의 돈을 가지고 있으면 택시를 타고 그렇지 않으면 걸어 가라.\"\n",
        "money = 2000\n",
        "if money >= 3000:\n",
        "    print(\"택시를 타고 가라\")\n",
        "else:\n",
        "    print(\"걸어가라\")"
      ],
      "execution_count": null,
      "outputs": [
        {
          "output_type": "stream",
          "text": [
            "걸어가라\n"
          ],
          "name": "stdout"
        }
      ]
    },
    {
      "cell_type": "markdown",
      "metadata": {
        "id": "-wFpI0uwa5GE"
      },
      "source": [
        "**복합 조건식: or, and, not**"
      ]
    },
    {
      "cell_type": "markdown",
      "metadata": {
        "id": "CWPS0biebGjS"
      },
      "source": [
        "**연산자\t설명**\n",
        "- x or y  :\tx와 y 둘중에 하나만 참이면 참이다\n",
        "- x and y :\tx와 y 모두 참이어야 참이다\n",
        "- not x\t  : x가 거짓이면 참이다"
      ]
    },
    {
      "cell_type": "markdown",
      "metadata": {
        "id": "gk2thqXWbNPi"
      },
      "source": [
        "**or 복합 조건식 이용**"
      ]
    },
    {
      "cell_type": "code",
      "metadata": {
        "colab": {
          "base_uri": "https://localhost:8080/"
        },
        "id": "dmFr8yNHbWGl",
        "outputId": "dcbc5b8c-09f3-4da2-ef9c-54d1c4073056"
      },
      "source": [
        "# 돈이 3000원 이상 있거나 카드가 있다면 택시를 타고 그렇지 않으면 걸어 가라.\n",
        "\n",
        "money = 2000\n",
        "card = True\n",
        "if money >= 3000 or card:         # 조건식식\n",
        "    print(\"택시를 타고 가라\")\n",
        "else:\n",
        "    print(\"걸어가라\")"
      ],
      "execution_count": null,
      "outputs": [
        {
          "output_type": "stream",
          "text": [
            "택시를 타고 가라\n"
          ],
          "name": "stdout"
        }
      ]
    },
    {
      "cell_type": "markdown",
      "metadata": {
        "id": "hZSBkzPqbb11"
      },
      "source": [
        "**조건식: in, not in**"
      ]
    },
    {
      "cell_type": "code",
      "metadata": {
        "id": "ig6IA-QnbdKd"
      },
      "source": [
        "###################################\n",
        "# 조건식: in, not in (데이터 구조 사용 가능능##################################\n",
        "# 조건식: in, not in (데이터 구조 사용 가능능)\n",
        "###################################\n",
        "#   in\t          not in\n",
        "# x in 리스트\tx not in 리스트\n",
        "# x in 튜플\t    x not in 튜플\n",
        "# x in 문자열\tx not in 문자열\n",
        "###################################"
      ],
      "execution_count": null,
      "outputs": []
    },
    {
      "cell_type": "code",
      "metadata": {
        "colab": {
          "base_uri": "https://localhost:8080/"
        },
        "id": "ia1XVz_scAD9",
        "outputId": "a1af7f9f-f415-4a21-c84c-1f21911a2942"
      },
      "source": [
        "# list\n",
        "print(1 in [1, 2, 3])            # 1은 [1, 2, 3] list 안에 있습니다.  - >  True\n",
        "print(1 not in [1, 2, 3])        # 1은 [1, 2, 3] list 안에 없습니다.  - >  False\n"
      ],
      "execution_count": null,
      "outputs": [
        {
          "output_type": "stream",
          "text": [
            "True\n",
            "False\n"
          ],
          "name": "stdout"
        }
      ]
    },
    {
      "cell_type": "code",
      "metadata": {
        "colab": {
          "base_uri": "https://localhost:8080/"
        },
        "id": "25dk7MHgcKBb",
        "outputId": "edbeb175-761e-4309-a54a-67333f36dc22"
      },
      "source": [
        "# tuple\n",
        "print('a' in ('a', 'b', 'c'))          # a는 ('a', 'b', 'c') tuple 안에 있습니다. \n",
        "# a in ('a', 'b', 'c')                 # NameError: name 'a' is not defined (a라는 변수는 ('a', 'b', 'c') 튜플 안에 없기 때문에 에러가 뜹니다.)"
      ],
      "execution_count": null,
      "outputs": [
        {
          "output_type": "stream",
          "text": [
            "True\n"
          ],
          "name": "stdout"
        }
      ]
    },
    {
      "cell_type": "code",
      "metadata": {
        "colab": {
          "base_uri": "https://localhost:8080/"
        },
        "id": "efcn-BAmcUDh",
        "outputId": "509b2cd3-e07b-4f02-806d-63347d2e580d"
      },
      "source": [
        "# string\n",
        "print('j' not in 'python')             # 'j'는 'python' 문자열 안에 없습니다.   - >  True\n",
        "print('t' in 'python')                 # 't'는 'python' 문자열 안에 있습니다.   - >  True\n",
        "\n",
        "\n",
        "'a' in 'abcdefg'       # 'a'는 'abcdefg' 문자열 안에 있습니다.  - >  True"
      ],
      "execution_count": null,
      "outputs": [
        {
          "output_type": "stream",
          "text": [
            "True\n",
            "True\n"
          ],
          "name": "stdout"
        },
        {
          "output_type": "execute_result",
          "data": {
            "text/plain": [
              "True"
            ]
          },
          "metadata": {
            "tags": []
          },
          "execution_count": 13
        }
      ]
    },
    {
      "cell_type": "markdown",
      "metadata": {
        "id": "tJp7aMBncg0t"
      },
      "source": [
        "**in을 이용한 코드**"
      ]
    },
    {
      "cell_type": "code",
      "metadata": {
        "colab": {
          "base_uri": "https://localhost:8080/"
        },
        "id": "j3hJPwbrclm0",
        "outputId": "bf7e82c2-59cc-46e8-83d3-a5a330fceb20"
      },
      "source": [
        "# in을 이용한 코드\n",
        "# \"만약 주머니에 돈이 있으면 택시를 타고, 없으면 걸어 가라.\"\n",
        "\n",
        "pocket = ['paper', 'cellphone', 'money']\n",
        "if 'money' in pocket:\n",
        "    print(\"택시를 타고 가라\")\n",
        "else:\n",
        "    print(\"걸어가라\")"
      ],
      "execution_count": null,
      "outputs": [
        {
          "output_type": "stream",
          "text": [
            "택시를 타고 가라\n"
          ],
          "name": "stdout"
        }
      ]
    },
    {
      "cell_type": "markdown",
      "metadata": {
        "id": "IoGU2Bo6codw"
      },
      "source": [
        "**조건식: pass**"
      ]
    },
    {
      "cell_type": "code",
      "metadata": {
        "id": "G0nGtGgIcwgA"
      },
      "source": [
        "# 조건식: pass\n",
        "\n",
        "pocket = ['paper', 'cellphone', 'money']\n",
        "if 'money' in pocket:\n",
        "     # print(\"택시를 타고 가라\")\n",
        "    pass\n",
        "else:\n",
        "    print(\"걸어가라\")"
      ],
      "execution_count": null,
      "outputs": []
    },
    {
      "cell_type": "markdown",
      "metadata": {
        "id": "pxSycKbAc3_O"
      },
      "source": [
        "**다중 조건식: elif**"
      ]
    },
    {
      "cell_type": "code",
      "metadata": {
        "colab": {
          "base_uri": "https://localhost:8080/"
        },
        "id": "wSmDbVH4c5nl",
        "outputId": "855cfc9d-b864-45b4-f7cb-11360561d293"
      },
      "source": [
        "pocket = ['paper', 'handphone']\n",
        "card = True\n",
        "if 'money' in pocket:\n",
        "    print(\"택시를 타고가라\")\n",
        "else:\n",
        "    if card:\n",
        "        print(\"택시를 타고가라\")\n",
        "    else:\n",
        "        print(\"걸어가라\")"
      ],
      "execution_count": null,
      "outputs": [
        {
          "output_type": "stream",
          "text": [
            "택시를 타고가라\n"
          ],
          "name": "stdout"
        }
      ]
    },
    {
      "cell_type": "markdown",
      "metadata": {
        "id": "-H0nnvmTdQMz"
      },
      "source": [
        "**elif 이용한 코드**"
      ]
    },
    {
      "cell_type": "code",
      "metadata": {
        "colab": {
          "base_uri": "https://localhost:8080/"
        },
        "id": "oXfS4_xLdR_O",
        "outputId": "4d4f1280-a362-42d4-f76e-ccaf5f97fdb1"
      },
      "source": [
        "pocket = ['paper', 'handphone']\n",
        "card = True\n",
        "if 'money' in pocket:\n",
        "    print(\"택시를 타고가라\")\n",
        "elif card:\n",
        "    print(\"택시를 타고가라\")\n",
        "else:\n",
        "    print(\"걸어가라\")"
      ],
      "execution_count": null,
      "outputs": [
        {
          "output_type": "stream",
          "text": [
            "택시를 타고가라\n"
          ],
          "name": "stdout"
        }
      ]
    },
    {
      "cell_type": "markdown",
      "metadata": {
        "id": "3TYGINmbdkM_"
      },
      "source": [
        "**if문을 한 줄로 작성하기**"
      ]
    },
    {
      "cell_type": "code",
      "metadata": {
        "id": "sOg6r9kJdlqq"
      },
      "source": [
        "pocket = ['paper', 'cellphone', 'money']\n",
        "if 'money' in pocket:\n",
        "    pass\n",
        "else:\n",
        "    print(\"카드를 사용해라.\")\n",
        "\n",
        "\n",
        "# 한줄 코드\n",
        "if 'money' in pocket: pass\n",
        "else: print(\"카드를 사용해라.\")"
      ],
      "execution_count": null,
      "outputs": []
    },
    {
      "cell_type": "markdown",
      "metadata": {
        "id": "seUvroLnd7A4"
      },
      "source": [
        "**조건부 표현식 (conditional expression)**"
      ]
    },
    {
      "cell_type": "code",
      "metadata": {
        "colab": {
          "base_uri": "https://localhost:8080/"
        },
        "id": "4We8Zd3zd_qm",
        "outputId": "0da50cb2-a1f4-4a3c-c93f-7e5a60213d3e"
      },
      "source": [
        "score=80\n",
        "if score >= 60:\n",
        "    message = \"success\"\n",
        "else:\n",
        "    message = \"failure\"\n",
        "\n",
        "print(message)\n",
        "\n",
        "# 한줄 코드\n",
        "score = 50\n",
        "message = \"success\" if score >= 60 else \"failure\"\n",
        "print(message)\n"
      ],
      "execution_count": null,
      "outputs": [
        {
          "output_type": "stream",
          "text": [
            "success\n",
            "failure\n"
          ],
          "name": "stdout"
        }
      ]
    },
    {
      "cell_type": "markdown",
      "metadata": {
        "id": "-_SBLJhcfSPg"
      },
      "source": [
        "**while 문은 어떻게 사용?**"
      ]
    },
    {
      "cell_type": "code",
      "metadata": {
        "colab": {
          "base_uri": "https://localhost:8080/"
        },
        "id": "yGV12_xZfYnd",
        "outputId": "059a6c9b-922f-44aa-fb87-cdb90f9902f9"
      },
      "source": [
        "treeHit = 0\n",
        "while treeHit < 10:\n",
        "    treeHit = treeHit +1\n",
        "    print(\"나무를 %d번 찍었습니다.\" % treeHit)\n",
        "    if treeHit == 10:\n",
        "        print(\"나무 넘어갑니다.\")"
      ],
      "execution_count": null,
      "outputs": [
        {
          "output_type": "stream",
          "text": [
            "나무를 1번 찍었습니다.\n",
            "나무를 2번 찍었습니다.\n",
            "나무를 3번 찍었습니다.\n",
            "나무를 4번 찍었습니다.\n",
            "나무를 5번 찍었습니다.\n",
            "나무를 6번 찍었습니다.\n",
            "나무를 7번 찍었습니다.\n",
            "나무를 8번 찍었습니다.\n",
            "나무를 9번 찍었습니다.\n",
            "나무를 10번 찍었습니다.\n",
            "나무 넘어갑니다.\n"
          ],
          "name": "stdout"
        }
      ]
    },
    {
      "cell_type": "markdown",
      "metadata": {
        "id": "hwiKdS5ofjlM"
      },
      "source": [
        "**while문 만들기**"
      ]
    },
    {
      "cell_type": "code",
      "metadata": {
        "colab": {
          "base_uri": "https://localhost:8080/"
        },
        "id": "1Y73m-oLfmKe",
        "outputId": "f5f8e1d0-fad4-420c-f7ea-144e1044004d"
      },
      "source": [
        "prompt = \"\"\"\n",
        "1. Add\n",
        "2. Del\n",
        "3. List\n",
        "4. Quit\n",
        "Enter number: \"\"\"\n",
        "print(prompt)\n",
        "\n",
        "number = 0\n",
        "while number != 4:\n",
        "    print(prompt)\n",
        "    number = int(input())     # input() : 사용자에게 키보드로부터 데이터를 받을 때 사용하는 함수"
      ],
      "execution_count": null,
      "outputs": [
        {
          "output_type": "stream",
          "text": [
            "\n",
            "1. Add\n",
            "2. Del\n",
            "3. List\n",
            "4. Quit\n",
            "Enter number: \n",
            "\n",
            "1. Add\n",
            "2. Del\n",
            "3. List\n",
            "4. Quit\n",
            "Enter number: \n",
            "1\n",
            "\n",
            "1. Add\n",
            "2. Del\n",
            "3. List\n",
            "4. Quit\n",
            "Enter number: \n",
            "2\n",
            "\n",
            "1. Add\n",
            "2. Del\n",
            "3. List\n",
            "4. Quit\n",
            "Enter number: \n",
            "4\n"
          ],
          "name": "stdout"
        }
      ]
    },
    {
      "cell_type": "markdown",
      "metadata": {
        "id": "ZcK5tuX7gMg8"
      },
      "source": [
        "**while문 강제로 빠져나가기**"
      ]
    },
    {
      "cell_type": "code",
      "metadata": {
        "colab": {
          "base_uri": "https://localhost:8080/"
        },
        "id": "6m6DE0mxgSul",
        "outputId": "0054c6af-f254-4d45-cf45-b4c0c8bc400b"
      },
      "source": [
        "coffee = 10\n",
        "money = 300\n",
        "while money:\n",
        "    print(\"돈을 받았으니 커피를 줍니다.\")\n",
        "    coffee = coffee -1\n",
        "    print(\"남은 커피의 양은 %d개입니다.\" % coffee)\n",
        "    if coffee == 0:\n",
        "        print(\"커피가 다 떨어졌습니다. 판매를 중지합니다.\")\n",
        "        break"
      ],
      "execution_count": null,
      "outputs": [
        {
          "output_type": "stream",
          "text": [
            "돈을 받았으니 커피를 줍니다.\n",
            "남은 커피의 양은 9개입니다.\n",
            "돈을 받았으니 커피를 줍니다.\n",
            "남은 커피의 양은 8개입니다.\n",
            "돈을 받았으니 커피를 줍니다.\n",
            "남은 커피의 양은 7개입니다.\n",
            "돈을 받았으니 커피를 줍니다.\n",
            "남은 커피의 양은 6개입니다.\n",
            "돈을 받았으니 커피를 줍니다.\n",
            "남은 커피의 양은 5개입니다.\n",
            "돈을 받았으니 커피를 줍니다.\n",
            "남은 커피의 양은 4개입니다.\n",
            "돈을 받았으니 커피를 줍니다.\n",
            "남은 커피의 양은 3개입니다.\n",
            "돈을 받았으니 커피를 줍니다.\n",
            "남은 커피의 양은 2개입니다.\n",
            "돈을 받았으니 커피를 줍니다.\n",
            "남은 커피의 양은 1개입니다.\n",
            "돈을 받았으니 커피를 줍니다.\n",
            "남은 커피의 양은 0개입니다.\n",
            "커피가 다 떨어졌습니다. 판매를 중지합니다.\n"
          ],
          "name": "stdout"
        }
      ]
    }
  ]
}